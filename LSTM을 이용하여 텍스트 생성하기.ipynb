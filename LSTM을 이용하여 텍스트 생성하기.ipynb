{
 "cells": [
  {
   "cell_type": "code",
   "execution_count": 1,
   "metadata": {},
   "outputs": [],
   "source": [
    "import pandas as pd\n",
    "from string import punctuation\n",
    "from tensorflow.keras.preprocessing.text import Tokenizer\n",
    "from tensorflow.keras.preprocessing.sequence import pad_sequences\n",
    "import numpy as np\n",
    "from tensorflow.keras.utils import to_categorical"
   ]
  },
  {
   "cell_type": "code",
   "execution_count": 3,
   "metadata": {},
   "outputs": [
    {
     "data": {
      "text/html": [
       "<div>\n",
       "<style scoped>\n",
       "    .dataframe tbody tr th:only-of-type {\n",
       "        vertical-align: middle;\n",
       "    }\n",
       "\n",
       "    .dataframe tbody tr th {\n",
       "        vertical-align: top;\n",
       "    }\n",
       "\n",
       "    .dataframe thead th {\n",
       "        text-align: right;\n",
       "    }\n",
       "</style>\n",
       "<table border=\"1\" class=\"dataframe\">\n",
       "  <thead>\n",
       "    <tr style=\"text-align: right;\">\n",
       "      <th></th>\n",
       "      <th>articleID</th>\n",
       "      <th>articleWordCount</th>\n",
       "      <th>byline</th>\n",
       "      <th>documentType</th>\n",
       "      <th>headline</th>\n",
       "      <th>keywords</th>\n",
       "      <th>multimedia</th>\n",
       "      <th>newDesk</th>\n",
       "      <th>printPage</th>\n",
       "      <th>pubDate</th>\n",
       "      <th>sectionName</th>\n",
       "      <th>snippet</th>\n",
       "      <th>source</th>\n",
       "      <th>typeOfMaterial</th>\n",
       "      <th>webURL</th>\n",
       "    </tr>\n",
       "  </thead>\n",
       "  <tbody>\n",
       "    <tr>\n",
       "      <th>0</th>\n",
       "      <td>5adf6684068401528a2aa69b</td>\n",
       "      <td>781</td>\n",
       "      <td>By JOHN BRANCH</td>\n",
       "      <td>article</td>\n",
       "      <td>Former N.F.L. Cheerleaders’ Settlement Offer: ...</td>\n",
       "      <td>['Workplace Hazards and Violations', 'Football...</td>\n",
       "      <td>68</td>\n",
       "      <td>Sports</td>\n",
       "      <td>0</td>\n",
       "      <td>2018-04-24 17:16:49</td>\n",
       "      <td>Pro Football</td>\n",
       "      <td>“I understand that they could meet with us, pa...</td>\n",
       "      <td>The New York Times</td>\n",
       "      <td>News</td>\n",
       "      <td>https://www.nytimes.com/2018/04/24/sports/foot...</td>\n",
       "    </tr>\n",
       "    <tr>\n",
       "      <th>1</th>\n",
       "      <td>5adf653f068401528a2aa697</td>\n",
       "      <td>656</td>\n",
       "      <td>By LISA FRIEDMAN</td>\n",
       "      <td>article</td>\n",
       "      <td>E.P.A. to Unveil a New Rule. Its Effect: Less ...</td>\n",
       "      <td>['Environmental Protection Agency', 'Pruitt, S...</td>\n",
       "      <td>68</td>\n",
       "      <td>Climate</td>\n",
       "      <td>0</td>\n",
       "      <td>2018-04-24 17:11:21</td>\n",
       "      <td>Unknown</td>\n",
       "      <td>The agency plans to publish a new regulation T...</td>\n",
       "      <td>The New York Times</td>\n",
       "      <td>News</td>\n",
       "      <td>https://www.nytimes.com/2018/04/24/climate/epa...</td>\n",
       "    </tr>\n",
       "    <tr>\n",
       "      <th>2</th>\n",
       "      <td>5adf4626068401528a2aa628</td>\n",
       "      <td>2427</td>\n",
       "      <td>By PETE WELLS</td>\n",
       "      <td>article</td>\n",
       "      <td>The New Noma, Explained</td>\n",
       "      <td>['Restaurants', 'Noma (Copenhagen, Restaurant)...</td>\n",
       "      <td>66</td>\n",
       "      <td>Dining</td>\n",
       "      <td>0</td>\n",
       "      <td>2018-04-24 14:58:44</td>\n",
       "      <td>Unknown</td>\n",
       "      <td>What’s it like to eat at the second incarnatio...</td>\n",
       "      <td>The New York Times</td>\n",
       "      <td>News</td>\n",
       "      <td>https://www.nytimes.com/2018/04/24/dining/noma...</td>\n",
       "    </tr>\n",
       "    <tr>\n",
       "      <th>3</th>\n",
       "      <td>5adf40d2068401528a2aa619</td>\n",
       "      <td>626</td>\n",
       "      <td>By JULIE HIRSCHFELD DAVIS and PETER BAKER</td>\n",
       "      <td>article</td>\n",
       "      <td>Unknown</td>\n",
       "      <td>['Macron, Emmanuel (1977- )', 'Trump, Donald J...</td>\n",
       "      <td>68</td>\n",
       "      <td>Washington</td>\n",
       "      <td>0</td>\n",
       "      <td>2018-04-24 14:35:57</td>\n",
       "      <td>Europe</td>\n",
       "      <td>President Trump welcomed President Emmanuel Ma...</td>\n",
       "      <td>The New York Times</td>\n",
       "      <td>News</td>\n",
       "      <td>https://www.nytimes.com/2018/04/24/world/europ...</td>\n",
       "    </tr>\n",
       "    <tr>\n",
       "      <th>4</th>\n",
       "      <td>5adf3d64068401528a2aa60f</td>\n",
       "      <td>815</td>\n",
       "      <td>By IAN AUSTEN and DAN BILEFSKY</td>\n",
       "      <td>article</td>\n",
       "      <td>Unknown</td>\n",
       "      <td>['Toronto, Ontario, Attack (April, 2018)', 'Mu...</td>\n",
       "      <td>68</td>\n",
       "      <td>Foreign</td>\n",
       "      <td>0</td>\n",
       "      <td>2018-04-24 14:21:21</td>\n",
       "      <td>Canada</td>\n",
       "      <td>Alek Minassian, 25, a resident of Toronto’s Ri...</td>\n",
       "      <td>The New York Times</td>\n",
       "      <td>News</td>\n",
       "      <td>https://www.nytimes.com/2018/04/24/world/canad...</td>\n",
       "    </tr>\n",
       "  </tbody>\n",
       "</table>\n",
       "</div>"
      ],
      "text/plain": [
       "                  articleID  articleWordCount  \\\n",
       "0  5adf6684068401528a2aa69b               781   \n",
       "1  5adf653f068401528a2aa697               656   \n",
       "2  5adf4626068401528a2aa628              2427   \n",
       "3  5adf40d2068401528a2aa619               626   \n",
       "4  5adf3d64068401528a2aa60f               815   \n",
       "\n",
       "                                      byline documentType  \\\n",
       "0                             By JOHN BRANCH      article   \n",
       "1                           By LISA FRIEDMAN      article   \n",
       "2                              By PETE WELLS      article   \n",
       "3  By JULIE HIRSCHFELD DAVIS and PETER BAKER      article   \n",
       "4             By IAN AUSTEN and DAN BILEFSKY      article   \n",
       "\n",
       "                                            headline  \\\n",
       "0  Former N.F.L. Cheerleaders’ Settlement Offer: ...   \n",
       "1  E.P.A. to Unveil a New Rule. Its Effect: Less ...   \n",
       "2                            The New Noma, Explained   \n",
       "3                                            Unknown   \n",
       "4                                            Unknown   \n",
       "\n",
       "                                            keywords  multimedia     newDesk  \\\n",
       "0  ['Workplace Hazards and Violations', 'Football...          68      Sports   \n",
       "1  ['Environmental Protection Agency', 'Pruitt, S...          68     Climate   \n",
       "2  ['Restaurants', 'Noma (Copenhagen, Restaurant)...          66      Dining   \n",
       "3  ['Macron, Emmanuel (1977- )', 'Trump, Donald J...          68  Washington   \n",
       "4  ['Toronto, Ontario, Attack (April, 2018)', 'Mu...          68     Foreign   \n",
       "\n",
       "   printPage              pubDate   sectionName  \\\n",
       "0          0  2018-04-24 17:16:49  Pro Football   \n",
       "1          0  2018-04-24 17:11:21       Unknown   \n",
       "2          0  2018-04-24 14:58:44       Unknown   \n",
       "3          0  2018-04-24 14:35:57        Europe   \n",
       "4          0  2018-04-24 14:21:21        Canada   \n",
       "\n",
       "                                             snippet              source  \\\n",
       "0  “I understand that they could meet with us, pa...  The New York Times   \n",
       "1  The agency plans to publish a new regulation T...  The New York Times   \n",
       "2  What’s it like to eat at the second incarnatio...  The New York Times   \n",
       "3  President Trump welcomed President Emmanuel Ma...  The New York Times   \n",
       "4  Alek Minassian, 25, a resident of Toronto’s Ri...  The New York Times   \n",
       "\n",
       "  typeOfMaterial                                             webURL  \n",
       "0           News  https://www.nytimes.com/2018/04/24/sports/foot...  \n",
       "1           News  https://www.nytimes.com/2018/04/24/climate/epa...  \n",
       "2           News  https://www.nytimes.com/2018/04/24/dining/noma...  \n",
       "3           News  https://www.nytimes.com/2018/04/24/world/europ...  \n",
       "4           News  https://www.nytimes.com/2018/04/24/world/canad...  "
      ]
     },
     "execution_count": 3,
     "metadata": {},
     "output_type": "execute_result"
    }
   ],
   "source": [
    "df = pd.read_csv('.\\kaggle\\LSTM\\ArticlesApril2018.csv')\n",
    "df.head()"
   ]
  },
  {
   "cell_type": "code",
   "execution_count": 5,
   "metadata": {},
   "outputs": [
    {
     "name": "stdout",
     "output_type": "stream",
     "text": [
      "열의 개수: 15\n",
      "Index(['articleID', 'articleWordCount', 'byline', 'documentType', 'headline',\n",
      "       'keywords', 'multimedia', 'newDesk', 'printPage', 'pubDate',\n",
      "       'sectionName', 'snippet', 'source', 'typeOfMaterial', 'webURL'],\n",
      "      dtype='object')\n"
     ]
    }
   ],
   "source": [
    "print('열의 개수: {}'.format(len(df.columns)))\n",
    "print(df.columns)"
   ]
  },
  {
   "cell_type": "code",
   "execution_count": 6,
   "metadata": {},
   "outputs": [
    {
     "data": {
      "text/plain": [
       "False"
      ]
     },
     "execution_count": 6,
     "metadata": {},
     "output_type": "execute_result"
    }
   ],
   "source": [
    "df['headline'].isnull().values.any()"
   ]
  },
  {
   "cell_type": "code",
   "execution_count": 7,
   "metadata": {},
   "outputs": [
    {
     "data": {
      "text/plain": [
       "['Former N.F.L. Cheerleaders’ Settlement Offer: $1 and a Meeting With Goodell',\n",
       " 'E.P.A. to Unveil a New Rule. Its Effect: Less Science in Policymaking.',\n",
       " 'The New Noma, Explained',\n",
       " 'Unknown',\n",
       " 'Unknown']"
      ]
     },
     "execution_count": 7,
     "metadata": {},
     "output_type": "execute_result"
    }
   ],
   "source": [
    "headline = []\n",
    "headline.extend(list(df.headline.values))\n",
    "headline[:5]"
   ]
  },
  {
   "cell_type": "code",
   "execution_count": 8,
   "metadata": {},
   "outputs": [
    {
     "name": "stdout",
     "output_type": "stream",
     "text": [
      "총 샘플의 개수: 1324\n"
     ]
    }
   ],
   "source": [
    "print('총 샘플의 개수: {}'.format(len(headline)))"
   ]
  },
  {
   "cell_type": "code",
   "execution_count": 10,
   "metadata": {},
   "outputs": [
    {
     "name": "stdout",
     "output_type": "stream",
     "text": [
      "노이즈 값 제거 후 샘플의 개수: 1214\n"
     ]
    }
   ],
   "source": [
    "headline = [n for n in headline if n != 'Unknown']\n",
    "print('노이즈 값 제거 후 샘플의 개수: {}'.format(len(headline)))"
   ]
  },
  {
   "cell_type": "code",
   "execution_count": 11,
   "metadata": {},
   "outputs": [
    {
     "data": {
      "text/plain": [
       "['Former N.F.L. Cheerleaders’ Settlement Offer: $1 and a Meeting With Goodell',\n",
       " 'E.P.A. to Unveil a New Rule. Its Effect: Less Science in Policymaking.',\n",
       " 'The New Noma, Explained',\n",
       " 'How a Bag of Texas Dirt  Became a Times Tradition',\n",
       " 'Is School a Place for Self-Expression?']"
      ]
     },
     "execution_count": 11,
     "metadata": {},
     "output_type": "execute_result"
    }
   ],
   "source": [
    "headline[:5]"
   ]
  },
  {
   "cell_type": "code",
   "execution_count": 13,
   "metadata": {},
   "outputs": [
    {
     "data": {
      "text/plain": [
       "['former nfl cheerleaders settlement offer 1 and a meeting with goodell',\n",
       " 'epa to unveil a new rule its effect less science in policymaking',\n",
       " 'the new noma explained',\n",
       " 'how a bag of texas dirt  became a times tradition',\n",
       " 'is school a place for selfexpression']"
      ]
     },
     "execution_count": 13,
     "metadata": {},
     "output_type": "execute_result"
    }
   ],
   "source": [
    "def repreprocessing(s):\n",
    "    s=s.encode('utf-8').decode('ascii', 'ignore')\n",
    "    return ''.join(c for c in s if c not in punctuation).lower() #구두점 제거, 소문자\n",
    "text = [repreprocessing(x) for x in headline]\n",
    "text[:5]"
   ]
  },
  {
   "cell_type": "code",
   "execution_count": 14,
   "metadata": {},
   "outputs": [
    {
     "name": "stdout",
     "output_type": "stream",
     "text": [
      "단어 집합의 크기: 3494\n"
     ]
    }
   ],
   "source": [
    "t = Tokenizer()\n",
    "t.fit_on_texts(text)\n",
    "vocab_size = len(t.word_index) + 1\n",
    "print('단어 집합의 크기: {}'.format(vocab_size))"
   ]
  },
  {
   "cell_type": "code",
   "execution_count": 15,
   "metadata": {},
   "outputs": [
    {
     "data": {
      "text/plain": [
       "[[99, 269],\n",
       " [99, 269, 371],\n",
       " [99, 269, 371, 1115],\n",
       " [99, 269, 371, 1115, 582],\n",
       " [99, 269, 371, 1115, 582, 52],\n",
       " [99, 269, 371, 1115, 582, 52, 7],\n",
       " [99, 269, 371, 1115, 582, 52, 7, 2],\n",
       " [99, 269, 371, 1115, 582, 52, 7, 2, 372],\n",
       " [99, 269, 371, 1115, 582, 52, 7, 2, 372, 10],\n",
       " [99, 269, 371, 1115, 582, 52, 7, 2, 372, 10, 1116],\n",
       " [100, 3]]"
      ]
     },
     "execution_count": 15,
     "metadata": {},
     "output_type": "execute_result"
    }
   ],
   "source": [
    "sequences = list()\n",
    "\n",
    "for line in text:\n",
    "    encoded = t.texts_to_sequences([line])[0]\n",
    "    for i in range(1, len(encoded)):\n",
    "        sequence = encoded[:i+1]\n",
    "        sequences.append(sequence)\n",
    "        \n",
    "sequences[:11]"
   ]
  },
  {
   "cell_type": "code",
   "execution_count": 18,
   "metadata": {},
   "outputs": [
    {
     "name": "stdout",
     "output_type": "stream",
     "text": [
      "빈도수 상위 582번 단어 :former\n"
     ]
    }
   ],
   "source": [
    "#어떤 정수가 어떤 단어를 의미하는지\n",
    "index_to_word={} \n",
    "for key, value in t.word_index.items(): #인덱스를 단어로 바꾸기 위해 index_to_word 생성\n",
    "    index_to_word[value] = key\n",
    "    \n",
    "print('빈도수 상위 582번 단어 :{}'.format(index_to_word[99]))"
   ]
  },
  {
   "cell_type": "code",
   "execution_count": 21,
   "metadata": {},
   "outputs": [
    {
     "name": "stdout",
     "output_type": "stream",
     "text": [
      "샘플 최대 길이: 24\n"
     ]
    }
   ],
   "source": [
    "#패딩작업\n",
    "max_len=max(len(l) for l in sequences)\n",
    "print('샘플 최대 길이: {}'.format(max_len))"
   ]
  },
  {
   "cell_type": "code",
   "execution_count": 22,
   "metadata": {},
   "outputs": [
    {
     "name": "stdout",
     "output_type": "stream",
     "text": [
      "[[   0    0    0    0    0    0    0    0    0    0    0    0    0    0\n",
      "     0    0    0    0    0    0    0    0   99  269]\n",
      " [   0    0    0    0    0    0    0    0    0    0    0    0    0    0\n",
      "     0    0    0    0    0    0    0   99  269  371]\n",
      " [   0    0    0    0    0    0    0    0    0    0    0    0    0    0\n",
      "     0    0    0    0    0    0   99  269  371 1115]]\n"
     ]
    }
   ],
   "source": [
    "sequences = pad_sequences(sequences, maxlen=max_len, padding='pre')\n",
    "print(sequences[:3])"
   ]
  },
  {
   "cell_type": "code",
   "execution_count": 23,
   "metadata": {},
   "outputs": [],
   "source": [
    "#맨 오른쪽 단어만 분리\n",
    "sequences = np.array(sequences)\n",
    "X = sequences[:, :-1]\n",
    "y = sequences[:, -1]"
   ]
  },
  {
   "cell_type": "code",
   "execution_count": 25,
   "metadata": {},
   "outputs": [],
   "source": [
    "#y에 대해 원-핫 인코딩 수행\n",
    "y = to_categorical(y, num_classes=vocab_size)"
   ]
  },
  {
   "cell_type": "code",
   "execution_count": 26,
   "metadata": {},
   "outputs": [],
   "source": [
    "from tensorflow.keras.models import Sequential\n",
    "from tensorflow.keras.layers import Embedding, Dense, LSTM"
   ]
  },
  {
   "cell_type": "code",
   "execution_count": 27,
   "metadata": {},
   "outputs": [
    {
     "name": "stdout",
     "output_type": "stream",
     "text": [
      "Epoch 1/200\n",
      "244/244 - 22s - loss: 7.6464 - accuracy: 0.0277\n",
      "Epoch 2/200\n",
      "244/244 - 13s - loss: 7.1119 - accuracy: 0.0300\n",
      "Epoch 3/200\n",
      "244/244 - 18s - loss: 6.9741 - accuracy: 0.0361\n",
      "Epoch 4/200\n",
      "244/244 - 14s - loss: 6.8388 - accuracy: 0.0396\n",
      "Epoch 5/200\n",
      "244/244 - 10s - loss: 6.6651 - accuracy: 0.0468\n",
      "Epoch 6/200\n",
      "244/244 - 9s - loss: 6.4730 - accuracy: 0.0502\n",
      "Epoch 7/200\n",
      "244/244 - 10s - loss: 6.2637 - accuracy: 0.0577\n",
      "Epoch 8/200\n",
      "244/244 - 9s - loss: 6.0627 - accuracy: 0.0601\n",
      "Epoch 9/200\n",
      "244/244 - 10s - loss: 5.8662 - accuracy: 0.0643\n",
      "Epoch 10/200\n",
      "244/244 - 9s - loss: 5.6815 - accuracy: 0.0711\n",
      "Epoch 11/200\n",
      "244/244 - 9s - loss: 5.5080 - accuracy: 0.0724\n",
      "Epoch 12/200\n",
      "244/244 - 9s - loss: 5.3395 - accuracy: 0.0759\n",
      "Epoch 13/200\n",
      "244/244 - 9s - loss: 5.1817 - accuracy: 0.0848\n",
      "Epoch 14/200\n",
      "244/244 - 9s - loss: 5.0308 - accuracy: 0.0909\n",
      "Epoch 15/200\n",
      "244/244 - 9s - loss: 4.8877 - accuracy: 0.0998\n",
      "Epoch 16/200\n",
      "244/244 - 9s - loss: 4.7469 - accuracy: 0.1119\n",
      "Epoch 17/200\n",
      "244/244 - 9s - loss: 4.6148 - accuracy: 0.1253\n",
      "Epoch 18/200\n",
      "244/244 - 9s - loss: 4.4840 - accuracy: 0.1417\n",
      "Epoch 19/200\n",
      "244/244 - 9s - loss: 4.3584 - accuracy: 0.1599\n",
      "Epoch 20/200\n",
      "244/244 - 9s - loss: 4.2352 - accuracy: 0.1765\n",
      "Epoch 21/200\n",
      "244/244 - 9s - loss: 4.1180 - accuracy: 0.1904\n",
      "Epoch 22/200\n",
      "244/244 - 9s - loss: 4.0046 - accuracy: 0.2107\n",
      "Epoch 23/200\n",
      "244/244 - 9s - loss: 3.8931 - accuracy: 0.2291\n",
      "Epoch 24/200\n",
      "244/244 - 9s - loss: 3.7849 - accuracy: 0.2443\n",
      "Epoch 25/200\n",
      "244/244 - 9s - loss: 3.6811 - accuracy: 0.2676\n",
      "Epoch 26/200\n",
      "244/244 - 9s - loss: 3.5789 - accuracy: 0.2825\n",
      "Epoch 27/200\n",
      "244/244 - 10s - loss: 3.4792 - accuracy: 0.3014\n",
      "Epoch 28/200\n",
      "244/244 - 9s - loss: 3.3877 - accuracy: 0.3174\n",
      "Epoch 29/200\n",
      "244/244 - 9s - loss: 3.2955 - accuracy: 0.3362\n",
      "Epoch 30/200\n",
      "244/244 - 9s - loss: 3.2076 - accuracy: 0.3519\n",
      "Epoch 31/200\n",
      "244/244 - 9s - loss: 3.1223 - accuracy: 0.3660\n",
      "Epoch 32/200\n",
      "244/244 - 9s - loss: 3.0422 - accuracy: 0.3772\n",
      "Epoch 33/200\n",
      "244/244 - 9s - loss: 2.9611 - accuracy: 0.3961\n",
      "Epoch 34/200\n",
      "244/244 - 8s - loss: 2.8838 - accuracy: 0.4125\n",
      "Epoch 35/200\n",
      "244/244 - 9s - loss: 2.8104 - accuracy: 0.4204\n",
      "Epoch 36/200\n",
      "244/244 - 9s - loss: 2.7405 - accuracy: 0.4351\n",
      "Epoch 37/200\n",
      "244/244 - 8s - loss: 2.6698 - accuracy: 0.4515\n",
      "Epoch 38/200\n",
      "244/244 - 9s - loss: 2.6051 - accuracy: 0.4642\n",
      "Epoch 39/200\n",
      "244/244 - 9s - loss: 2.5416 - accuracy: 0.4756\n",
      "Epoch 40/200\n",
      "244/244 - 9s - loss: 2.4757 - accuracy: 0.4896\n",
      "Epoch 41/200\n",
      "244/244 - 9s - loss: 2.4136 - accuracy: 0.5037\n",
      "Epoch 42/200\n",
      "244/244 - 9s - loss: 2.3569 - accuracy: 0.5153\n",
      "Epoch 43/200\n",
      "244/244 - 9s - loss: 2.2983 - accuracy: 0.5304\n",
      "Epoch 44/200\n",
      "244/244 - 9s - loss: 2.2431 - accuracy: 0.5393\n",
      "Epoch 45/200\n",
      "244/244 - 9s - loss: 2.1882 - accuracy: 0.5553\n",
      "Epoch 46/200\n",
      "244/244 - 9s - loss: 2.1366 - accuracy: 0.5647\n",
      "Epoch 47/200\n",
      "244/244 - 9s - loss: 2.0838 - accuracy: 0.5794\n",
      "Epoch 48/200\n",
      "244/244 - 9s - loss: 2.0344 - accuracy: 0.5902\n",
      "Epoch 49/200\n",
      "244/244 - 9s - loss: 1.9841 - accuracy: 0.5963\n",
      "Epoch 50/200\n",
      "244/244 - 9s - loss: 1.9367 - accuracy: 0.6068\n",
      "Epoch 51/200\n",
      "244/244 - 9s - loss: 1.8890 - accuracy: 0.6163\n",
      "Epoch 52/200\n",
      "244/244 - 9s - loss: 1.8460 - accuracy: 0.6258\n",
      "Epoch 53/200\n",
      "244/244 - 9s - loss: 1.7994 - accuracy: 0.6364\n",
      "Epoch 54/200\n",
      "244/244 - 9s - loss: 1.7578 - accuracy: 0.6418\n",
      "Epoch 55/200\n",
      "244/244 - 9s - loss: 1.7162 - accuracy: 0.6517\n",
      "Epoch 56/200\n",
      "244/244 - 9s - loss: 1.6717 - accuracy: 0.6596\n",
      "Epoch 57/200\n",
      "244/244 - 9s - loss: 1.6324 - accuracy: 0.6691\n",
      "Epoch 58/200\n",
      "244/244 - 8s - loss: 1.5942 - accuracy: 0.6785\n",
      "Epoch 59/200\n",
      "244/244 - 9s - loss: 1.5544 - accuracy: 0.6868\n",
      "Epoch 60/200\n",
      "244/244 - 9s - loss: 1.5176 - accuracy: 0.6940\n",
      "Epoch 61/200\n",
      "244/244 - 8s - loss: 1.4817 - accuracy: 0.7015\n",
      "Epoch 62/200\n",
      "244/244 - 9s - loss: 1.4457 - accuracy: 0.7082\n",
      "Epoch 63/200\n",
      "244/244 - 9s - loss: 1.4115 - accuracy: 0.7206\n",
      "Epoch 64/200\n",
      "244/244 - 9s - loss: 1.3773 - accuracy: 0.7216\n",
      "Epoch 65/200\n",
      "244/244 - 9s - loss: 1.3439 - accuracy: 0.7300\n",
      "Epoch 66/200\n",
      "244/244 - 9s - loss: 1.3093 - accuracy: 0.7388\n",
      "Epoch 67/200\n",
      "244/244 - 9s - loss: 1.2791 - accuracy: 0.7459\n",
      "Epoch 68/200\n",
      "244/244 - 9s - loss: 1.2499 - accuracy: 0.7487\n",
      "Epoch 69/200\n",
      "244/244 - 10s - loss: 1.2198 - accuracy: 0.7555\n",
      "Epoch 70/200\n",
      "244/244 - 10s - loss: 1.1870 - accuracy: 0.7656\n",
      "Epoch 71/200\n",
      "244/244 - 9s - loss: 1.1606 - accuracy: 0.7670\n",
      "Epoch 72/200\n",
      "244/244 - 9s - loss: 1.1334 - accuracy: 0.7747\n",
      "Epoch 73/200\n",
      "244/244 - 8s - loss: 1.1042 - accuracy: 0.7802\n",
      "Epoch 74/200\n",
      "244/244 - 10s - loss: 1.0798 - accuracy: 0.7878\n",
      "Epoch 75/200\n",
      "244/244 - 9s - loss: 1.0575 - accuracy: 0.7905\n",
      "Epoch 76/200\n",
      "244/244 - 9s - loss: 1.0295 - accuracy: 0.7984\n",
      "Epoch 77/200\n",
      "244/244 - 9s - loss: 1.0051 - accuracy: 0.8044\n",
      "Epoch 78/200\n",
      "244/244 - 9s - loss: 0.9794 - accuracy: 0.8061\n",
      "Epoch 79/200\n",
      "244/244 - 9s - loss: 0.9571 - accuracy: 0.8140\n",
      "Epoch 80/200\n",
      "244/244 - 9s - loss: 0.9339 - accuracy: 0.8162\n",
      "Epoch 81/200\n",
      "244/244 - 9s - loss: 0.9132 - accuracy: 0.8222\n",
      "Epoch 82/200\n",
      "244/244 - 9s - loss: 0.8905 - accuracy: 0.8239\n",
      "Epoch 83/200\n",
      "244/244 - 9s - loss: 0.8726 - accuracy: 0.8269\n",
      "Epoch 84/200\n",
      "244/244 - 10s - loss: 0.8505 - accuracy: 0.8322\n",
      "Epoch 85/200\n",
      "244/244 - 9s - loss: 0.8288 - accuracy: 0.8367\n",
      "Epoch 86/200\n",
      "244/244 - 9s - loss: 0.8126 - accuracy: 0.8403\n",
      "Epoch 87/200\n",
      "244/244 - 9s - loss: 0.7923 - accuracy: 0.8425\n",
      "Epoch 88/200\n",
      "244/244 - 9s - loss: 0.7729 - accuracy: 0.8480\n",
      "Epoch 89/200\n",
      "244/244 - 9s - loss: 0.7558 - accuracy: 0.8515\n",
      "Epoch 90/200\n",
      "244/244 - 9s - loss: 0.7403 - accuracy: 0.8531\n",
      "Epoch 91/200\n",
      "244/244 - 9s - loss: 0.7224 - accuracy: 0.8558\n",
      "Epoch 92/200\n",
      "244/244 - 9s - loss: 0.7058 - accuracy: 0.8625\n",
      "Epoch 93/200\n",
      "244/244 - 8s - loss: 0.6882 - accuracy: 0.8640\n",
      "Epoch 94/200\n",
      "244/244 - 9s - loss: 0.6742 - accuracy: 0.8689\n",
      "Epoch 95/200\n",
      "244/244 - 9s - loss: 0.6603 - accuracy: 0.8698\n",
      "Epoch 96/200\n",
      "244/244 - 9s - loss: 0.6440 - accuracy: 0.8745\n",
      "Epoch 97/200\n",
      "244/244 - 9s - loss: 0.6294 - accuracy: 0.8758\n",
      "Epoch 98/200\n",
      "244/244 - 9s - loss: 0.6170 - accuracy: 0.8768\n",
      "Epoch 99/200\n",
      "244/244 - 10s - loss: 0.6039 - accuracy: 0.8809\n",
      "Epoch 100/200\n",
      "244/244 - 10s - loss: 0.5904 - accuracy: 0.8825\n",
      "Epoch 101/200\n",
      "244/244 - 9s - loss: 0.5786 - accuracy: 0.8830\n",
      "Epoch 102/200\n",
      "244/244 - 9s - loss: 0.5655 - accuracy: 0.8876\n",
      "Epoch 103/200\n",
      "244/244 - 10s - loss: 0.5532 - accuracy: 0.8908\n",
      "Epoch 104/200\n",
      "244/244 - 9s - loss: 0.5413 - accuracy: 0.8882\n",
      "Epoch 105/200\n",
      "244/244 - 9s - loss: 0.5318 - accuracy: 0.8932\n",
      "Epoch 106/200\n",
      "244/244 - 8s - loss: 0.5202 - accuracy: 0.8952\n",
      "Epoch 107/200\n",
      "244/244 - 9s - loss: 0.5090 - accuracy: 0.8977\n",
      "Epoch 108/200\n",
      "244/244 - 9s - loss: 0.5007 - accuracy: 0.9002\n",
      "Epoch 109/200\n",
      "244/244 - 9s - loss: 0.4947 - accuracy: 0.8981\n",
      "Epoch 110/200\n",
      "244/244 - 9s - loss: 0.4838 - accuracy: 0.8985\n",
      "Epoch 111/200\n",
      "244/244 - 9s - loss: 0.4717 - accuracy: 0.9022\n",
      "Epoch 112/200\n",
      "244/244 - 8s - loss: 0.4647 - accuracy: 0.9043\n",
      "Epoch 113/200\n",
      "244/244 - 9s - loss: 0.4556 - accuracy: 0.9026\n",
      "Epoch 114/200\n",
      "244/244 - 9s - loss: 0.4505 - accuracy: 0.9050\n",
      "Epoch 115/200\n",
      "244/244 - 8s - loss: 0.4389 - accuracy: 0.9055\n",
      "Epoch 116/200\n",
      "244/244 - 9s - loss: 0.4301 - accuracy: 0.9067\n",
      "Epoch 117/200\n",
      "244/244 - 9s - loss: 0.4244 - accuracy: 0.9080\n",
      "Epoch 118/200\n",
      "244/244 - 9s - loss: 0.4150 - accuracy: 0.9070\n",
      "Epoch 119/200\n",
      "244/244 - 9s - loss: 0.4081 - accuracy: 0.9093\n",
      "Epoch 120/200\n",
      "244/244 - 10s - loss: 0.4029 - accuracy: 0.9104\n",
      "Epoch 121/200\n",
      "244/244 - 9s - loss: 0.3969 - accuracy: 0.9111\n",
      "Epoch 122/200\n",
      "244/244 - 9s - loss: 0.3927 - accuracy: 0.9109\n",
      "Epoch 123/200\n",
      "244/244 - 9s - loss: 0.3847 - accuracy: 0.9126\n",
      "Epoch 124/200\n",
      "244/244 - 9s - loss: 0.3817 - accuracy: 0.9127\n",
      "Epoch 125/200\n",
      "244/244 - 9s - loss: 0.3754 - accuracy: 0.9122\n",
      "Epoch 126/200\n",
      "244/244 - 9s - loss: 0.3741 - accuracy: 0.9121\n",
      "Epoch 127/200\n",
      "244/244 - 9s - loss: 0.3659 - accuracy: 0.9136\n",
      "Epoch 128/200\n",
      "244/244 - 9s - loss: 0.3622 - accuracy: 0.9132\n",
      "Epoch 129/200\n",
      "244/244 - 9s - loss: 0.3580 - accuracy: 0.9150\n",
      "Epoch 130/200\n",
      "244/244 - 10s - loss: 0.3516 - accuracy: 0.9141\n",
      "Epoch 131/200\n",
      "244/244 - 9s - loss: 0.3455 - accuracy: 0.9136\n",
      "Epoch 132/200\n",
      "244/244 - 9s - loss: 0.3424 - accuracy: 0.9130\n",
      "Epoch 133/200\n",
      "244/244 - 10s - loss: 0.3383 - accuracy: 0.9162\n",
      "Epoch 134/200\n",
      "244/244 - 10s - loss: 0.3357 - accuracy: 0.9149\n",
      "Epoch 135/200\n",
      "244/244 - 9s - loss: 0.3327 - accuracy: 0.9140\n",
      "Epoch 136/200\n",
      "244/244 - 9s - loss: 0.3295 - accuracy: 0.9158\n"
     ]
    },
    {
     "name": "stdout",
     "output_type": "stream",
     "text": [
      "Epoch 137/200\n",
      "244/244 - 9s - loss: 0.3289 - accuracy: 0.9161\n",
      "Epoch 138/200\n",
      "244/244 - 9s - loss: 0.3237 - accuracy: 0.9175\n",
      "Epoch 139/200\n",
      "244/244 - 9s - loss: 0.3196 - accuracy: 0.9153\n",
      "Epoch 140/200\n",
      "244/244 - 9s - loss: 0.3172 - accuracy: 0.9167\n",
      "Epoch 141/200\n",
      "244/244 - 9s - loss: 0.3139 - accuracy: 0.9153\n",
      "Epoch 142/200\n",
      "244/244 - 9s - loss: 0.3119 - accuracy: 0.9150\n",
      "Epoch 143/200\n",
      "244/244 - 9s - loss: 0.3128 - accuracy: 0.9171\n",
      "Epoch 144/200\n",
      "244/244 - 9s - loss: 0.3089 - accuracy: 0.9179\n",
      "Epoch 145/200\n",
      "244/244 - 9s - loss: 0.3062 - accuracy: 0.9153\n",
      "Epoch 146/200\n",
      "244/244 - 9s - loss: 0.3072 - accuracy: 0.9150\n",
      "Epoch 147/200\n",
      "244/244 - 9s - loss: 0.3017 - accuracy: 0.9175\n",
      "Epoch 148/200\n",
      "244/244 - 9s - loss: 0.3011 - accuracy: 0.9152\n",
      "Epoch 149/200\n",
      "244/244 - 9s - loss: 0.2970 - accuracy: 0.9163\n",
      "Epoch 150/200\n",
      "244/244 - 10s - loss: 0.2986 - accuracy: 0.9176\n",
      "Epoch 151/200\n",
      "244/244 - 9s - loss: 0.3053 - accuracy: 0.9161\n",
      "Epoch 152/200\n",
      "244/244 - 9s - loss: 0.3124 - accuracy: 0.9130\n",
      "Epoch 153/200\n",
      "244/244 - 9s - loss: 0.2943 - accuracy: 0.9158\n",
      "Epoch 154/200\n",
      "244/244 - 9s - loss: 0.2913 - accuracy: 0.9162\n",
      "Epoch 155/200\n",
      "244/244 - 9s - loss: 0.2883 - accuracy: 0.9167\n",
      "Epoch 156/200\n",
      "244/244 - 9s - loss: 0.2883 - accuracy: 0.9171\n",
      "Epoch 157/200\n",
      "244/244 - 9s - loss: 0.2844 - accuracy: 0.9158\n",
      "Epoch 158/200\n",
      "244/244 - 9s - loss: 0.2854 - accuracy: 0.9159\n",
      "Epoch 159/200\n",
      "244/244 - 9s - loss: 0.2836 - accuracy: 0.9168\n",
      "Epoch 160/200\n",
      "244/244 - 9s - loss: 0.2827 - accuracy: 0.9172\n",
      "Epoch 161/200\n",
      "244/244 - 9s - loss: 0.2820 - accuracy: 0.9154\n",
      "Epoch 162/200\n",
      "244/244 - 9s - loss: 0.2816 - accuracy: 0.9162\n",
      "Epoch 163/200\n",
      "244/244 - 9s - loss: 0.2800 - accuracy: 0.9171\n",
      "Epoch 164/200\n",
      "244/244 - 9s - loss: 0.2814 - accuracy: 0.9167\n",
      "Epoch 165/200\n",
      "244/244 - 9s - loss: 0.2827 - accuracy: 0.9166\n",
      "Epoch 166/200\n",
      "244/244 - 9s - loss: 0.2820 - accuracy: 0.9170\n",
      "Epoch 167/200\n",
      "244/244 - 9s - loss: 0.2814 - accuracy: 0.9171\n",
      "Epoch 168/200\n",
      "244/244 - 9s - loss: 0.2775 - accuracy: 0.9168\n",
      "Epoch 169/200\n",
      "244/244 - 9s - loss: 0.2751 - accuracy: 0.9153\n",
      "Epoch 170/200\n",
      "244/244 - 9s - loss: 0.2746 - accuracy: 0.9149\n",
      "Epoch 171/200\n",
      "244/244 - 9s - loss: 0.2737 - accuracy: 0.9153\n",
      "Epoch 172/200\n",
      "244/244 - 9s - loss: 0.2720 - accuracy: 0.9168\n",
      "Epoch 173/200\n",
      "244/244 - 9s - loss: 0.2731 - accuracy: 0.9150\n",
      "Epoch 174/200\n",
      "244/244 - 9s - loss: 0.2721 - accuracy: 0.9177\n",
      "Epoch 175/200\n",
      "244/244 - 9s - loss: 0.2704 - accuracy: 0.9180\n",
      "Epoch 176/200\n",
      "244/244 - 9s - loss: 0.2702 - accuracy: 0.9163\n",
      "Epoch 177/200\n",
      "244/244 - 9s - loss: 0.2720 - accuracy: 0.9168\n",
      "Epoch 178/200\n",
      "244/244 - 9s - loss: 0.2729 - accuracy: 0.9172\n",
      "Epoch 179/200\n",
      "244/244 - 9s - loss: 0.2720 - accuracy: 0.9162\n",
      "Epoch 180/200\n",
      "244/244 - 9s - loss: 0.2687 - accuracy: 0.9173\n",
      "Epoch 181/200\n",
      "244/244 - 9s - loss: 0.2679 - accuracy: 0.9154\n",
      "Epoch 182/200\n",
      "244/244 - 9s - loss: 0.2679 - accuracy: 0.9168\n",
      "Epoch 183/200\n",
      "244/244 - 9s - loss: 0.2838 - accuracy: 0.9144\n",
      "Epoch 184/200\n",
      "244/244 - 9s - loss: 0.3870 - accuracy: 0.9012\n",
      "Epoch 185/200\n",
      "244/244 - 10s - loss: 0.3116 - accuracy: 0.9066\n",
      "Epoch 186/200\n",
      "244/244 - 9s - loss: 0.2706 - accuracy: 0.9173\n",
      "Epoch 187/200\n",
      "244/244 - 8s - loss: 0.2650 - accuracy: 0.9171\n",
      "Epoch 188/200\n",
      "244/244 - 8s - loss: 0.2643 - accuracy: 0.9159\n",
      "Epoch 189/200\n",
      "244/244 - 9s - loss: 0.2633 - accuracy: 0.9172\n",
      "Epoch 190/200\n",
      "244/244 - 9s - loss: 0.2627 - accuracy: 0.9172\n",
      "Epoch 191/200\n",
      "244/244 - 9s - loss: 0.2623 - accuracy: 0.9172\n",
      "Epoch 192/200\n",
      "244/244 - 9s - loss: 0.2622 - accuracy: 0.9166\n",
      "Epoch 193/200\n",
      "244/244 - 9s - loss: 0.2622 - accuracy: 0.9164\n",
      "Epoch 194/200\n",
      "244/244 - 9s - loss: 0.2610 - accuracy: 0.9175\n",
      "Epoch 195/200\n",
      "244/244 - 9s - loss: 0.2606 - accuracy: 0.9185\n",
      "Epoch 196/200\n",
      "244/244 - 9s - loss: 0.2608 - accuracy: 0.9163\n",
      "Epoch 197/200\n",
      "244/244 - 9s - loss: 0.2610 - accuracy: 0.9173\n",
      "Epoch 198/200\n",
      "244/244 - 9s - loss: 0.2611 - accuracy: 0.9171\n",
      "Epoch 199/200\n",
      "244/244 - 9s - loss: 0.2598 - accuracy: 0.9163\n",
      "Epoch 200/200\n",
      "244/244 - 9s - loss: 0.2600 - accuracy: 0.9170\n"
     ]
    },
    {
     "data": {
      "text/plain": [
       "<tensorflow.python.keras.callbacks.History at 0x11c776f91f0>"
      ]
     },
     "execution_count": 27,
     "metadata": {},
     "output_type": "execute_result"
    }
   ],
   "source": [
    "model = Sequential()\n",
    "model.add(Embedding(vocab_size, 10, input_length=max_len-1))\n",
    "model.add(LSTM(128))\n",
    "model.add(Dense(vocab_size, activation='softmax'))\n",
    "model.compile(loss='categorical_crossentropy', optimizer='adam', metrics=['accuracy'])\n",
    "model.fit(X, y, epochs=200, verbose=2)"
   ]
  },
  {
   "cell_type": "code",
   "execution_count": 31,
   "metadata": {},
   "outputs": [],
   "source": [
    "def sentence_generation(model, t, current_word, n):\n",
    "    init_word = current_word\n",
    "    sentence=''\n",
    "    for _ in range(n):\n",
    "        encoded = t.texts_to_sequences([current_word])[0]\n",
    "        encoded = pad_sequences([encoded], maxlen=23, padding='pre')\n",
    "        result = model.predict_classes(encoded, verbose=0)\n",
    "        for word, index in t.word_index.items():\n",
    "            if index == result:\n",
    "                break\n",
    "        current_word = current_word + ' ' + word\n",
    "        sentence = sentence + ' ' + word\n",
    "    sentence = init_word + sentence\n",
    "    return sentence"
   ]
  },
  {
   "cell_type": "code",
   "execution_count": 33,
   "metadata": {},
   "outputs": [
    {
     "name": "stdout",
     "output_type": "stream",
     "text": [
      "disapprove of squash without the ceiling era as the president peninsula\n"
     ]
    }
   ],
   "source": [
    "print(sentence_generation(model, t, 'disapprove', 10))"
   ]
  },
  {
   "cell_type": "code",
   "execution_count": 34,
   "metadata": {},
   "outputs": [
    {
     "name": "stdout",
     "output_type": "stream",
     "text": [
      "how to make facebook more accountable about friends he not officials\n"
     ]
    }
   ],
   "source": [
    "print(sentence_generation(model, t, 'how', 10))"
   ]
  },
  {
   "cell_type": "code",
   "execution_count": null,
   "metadata": {},
   "outputs": [],
   "source": []
  }
 ],
 "metadata": {
  "kernelspec": {
   "display_name": "Python 3",
   "language": "python",
   "name": "python3"
  },
  "language_info": {
   "codemirror_mode": {
    "name": "ipython",
    "version": 3
   },
   "file_extension": ".py",
   "mimetype": "text/x-python",
   "name": "python",
   "nbconvert_exporter": "python",
   "pygments_lexer": "ipython3",
   "version": "3.8.5"
  }
 },
 "nbformat": 4,
 "nbformat_minor": 4
}
